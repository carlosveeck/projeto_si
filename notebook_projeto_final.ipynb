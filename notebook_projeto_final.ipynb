{
  "nbformat": 4,
  "nbformat_minor": 0,
  "metadata": {
    "colab": {
      "provenance": []
    },
    "kernelspec": {
      "name": "python3",
      "display_name": "Python 3"
    },
    "language_info": {
      "name": "python"
    }
  },
  "cells": [
    {
      "cell_type": "markdown",
      "source": [
        "# Importando bibliotecas"
      ],
      "metadata": {
        "id": "vUCfHEoc_y4H"
      }
    },
    {
      "cell_type": "code",
      "source": [
        "import pandas as pd\n",
        "import numpy as np\n",
        "import matplotlib.pyplot as plt\n",
        "from tensorflow.keras.optimizers import Adam\n",
        "from sklearn.model_selection import train_test_split\n",
        "from sklearn.preprocessing import StandardScaler\n",
        "from tensorflow.keras.losses import MeanSquaredError\n",
        "from sklearn.metrics import mean_squared_error\n",
        "from keras.models import Sequential\n",
        "from keras.layers import Dense, Dropout\n"
      ],
      "metadata": {
        "id": "2whnoWHE_yXS"
      },
      "execution_count": null,
      "outputs": []
    },
    {
      "cell_type": "markdown",
      "source": [
        "# Carregar o conjunto de dados"
      ],
      "metadata": {
        "id": "fKg_XM3L_4wy"
      }
    },
    {
      "cell_type": "code",
      "source": [
        "url = 'http://archive.ics.uci.edu/ml/machine-learning-databases/abalone/abalone.data'\n",
        "column_names = ['Sex', 'Length', 'Diameter', 'Height',\n",
        "                'Whole weight', 'Shucked weight',\n",
        "                'Viscera weight', 'Shell weight', 'Rings']\n",
        "data = pd.read_csv(url, header=None, names=column_names)"
      ],
      "metadata": {
        "id": "QUaMphIU_6Zc"
      },
      "execution_count": null,
      "outputs": []
    },
    {
      "cell_type": "markdown",
      "source": [
        "#Formatando dados"
      ],
      "metadata": {
        "id": "_yfXILnC_-QE"
      }
    },
    {
      "cell_type": "code",
      "source": [
        "# Converter a variável categórica 'Sex' para variáveis dummy\n",
        "data = pd.get_dummies(data, columns=['Sex'])\n",
        "\n",
        "# Separar os recursos (features) e o alvo (target)\n",
        "X = data.drop('Rings', axis=1)\n",
        "y = data['Rings']\n",
        "\n",
        "# Normalizar os dados\n",
        "scaler = StandardScaler()\n",
        "X_scaled = scaler.fit_transform(X)"
      ],
      "metadata": {
        "id": "MmalBD-wAAFw"
      },
      "execution_count": null,
      "outputs": []
    },
    {
      "cell_type": "markdown",
      "source": [
        "# Dividir os dados em conjuntos de treino e teste"
      ],
      "metadata": {
        "id": "IEcNoTiOACpT"
      }
    },
    {
      "cell_type": "code",
      "source": [
        "#Dividindo em conjunto de treino e testes\n",
        "X_train, X_test, y_train, y_test = train_test_split(X_scaled, y, test_size=0.2, random_state=42)"
      ],
      "metadata": {
        "id": "ZT-D_zbAAFJU"
      },
      "execution_count": null,
      "outputs": []
    },
    {
      "cell_type": "markdown",
      "source": [
        "# Definir o modelo"
      ],
      "metadata": {
        "id": "Jy2PB8FrAGmP"
      }
    },
    {
      "cell_type": "code",
      "source": [
        "model = Sequential()\n",
        "model.add(Dense(160, kernel_initializer= 'normal',activation='relu',input_dim = 10))\n",
        "model.add(Dropout(0.2))\n",
        "model.add(Dense(480, kernel_initializer= 'normal',activation='relu'))\n",
        "model.add(Dropout(0.2))\n",
        "model.add(Dense(256, kernel_initializer='normal', activation='relu'))\n",
        "model.add(Dense(1,kernel_initializer= 'normal', activation = 'linear'))\n",
        "\n",
        "# Compilar o modelo\n",
        "opt = Adam(learning_rate=0.001)\n",
        "model.compile(optimizer=opt, loss='mean_squared_error', metrics = [MeanSquaredError()])\n",
        "\n",
        "# Treinar o modelo\n",
        "history = model.fit(X_train, y_train, epochs=100, batch_size=32, validation_split=0.2)\n",
        "\n",
        "# Avaliar o modelo\n",
        "y_pred = model.predict(X_test)\n",
        "mse = mean_squared_error(y_test, y_pred)\n",
        "print(f'Erro Quadrático Médio (MSE): {mse}')"
      ],
      "metadata": {
        "colab": {
          "base_uri": "https://localhost:8080/"
        },
        "id": "MDR6T-sdAIA2",
        "outputId": "c892abee-2350-436f-cc12-e142c80baddc"
      },
      "execution_count": null,
      "outputs": [
        {
          "output_type": "stream",
          "name": "stdout",
          "text": [
            "Epoch 1/100\n",
            "84/84 [==============================] - 2s 13ms/step - loss: 25.2016 - mean_squared_error: 25.0924 - val_loss: 4.5238 - val_mean_squared_error: 4.5293\n",
            "Epoch 2/100\n",
            "84/84 [==============================] - 1s 7ms/step - loss: 7.5878 - mean_squared_error: 7.5792 - val_loss: 4.5917 - val_mean_squared_error: 4.5924\n",
            "Epoch 3/100\n",
            "84/84 [==============================] - 1s 7ms/step - loss: 6.1674 - mean_squared_error: 6.2143 - val_loss: 4.7484 - val_mean_squared_error: 4.7465\n",
            "Epoch 4/100\n",
            "84/84 [==============================] - 1s 7ms/step - loss: 5.9071 - mean_squared_error: 5.8936 - val_loss: 4.6138 - val_mean_squared_error: 4.6116\n",
            "Epoch 5/100\n",
            "84/84 [==============================] - 1s 7ms/step - loss: 5.5784 - mean_squared_error: 5.6012 - val_loss: 4.1392 - val_mean_squared_error: 4.1415\n",
            "Epoch 6/100\n",
            "84/84 [==============================] - 1s 7ms/step - loss: 5.4485 - mean_squared_error: 5.4433 - val_loss: 4.3184 - val_mean_squared_error: 4.3197\n",
            "Epoch 7/100\n",
            "84/84 [==============================] - 1s 7ms/step - loss: 5.5683 - mean_squared_error: 5.5990 - val_loss: 4.6813 - val_mean_squared_error: 4.6855\n",
            "Epoch 8/100\n",
            "84/84 [==============================] - 1s 6ms/step - loss: 5.4700 - mean_squared_error: 5.4540 - val_loss: 4.2476 - val_mean_squared_error: 4.2479\n",
            "Epoch 9/100\n",
            "84/84 [==============================] - 1s 7ms/step - loss: 5.4589 - mean_squared_error: 5.4541 - val_loss: 4.9362 - val_mean_squared_error: 4.9404\n",
            "Epoch 10/100\n",
            "84/84 [==============================] - 1s 7ms/step - loss: 5.5812 - mean_squared_error: 5.5758 - val_loss: 4.2244 - val_mean_squared_error: 4.2269\n",
            "Epoch 11/100\n",
            "84/84 [==============================] - 1s 7ms/step - loss: 5.3138 - mean_squared_error: 5.3128 - val_loss: 4.0781 - val_mean_squared_error: 4.0796\n",
            "Epoch 12/100\n",
            "84/84 [==============================] - 1s 7ms/step - loss: 5.2376 - mean_squared_error: 5.2335 - val_loss: 4.1055 - val_mean_squared_error: 4.1058\n",
            "Epoch 13/100\n",
            "84/84 [==============================] - 1s 7ms/step - loss: 5.1271 - mean_squared_error: 5.1130 - val_loss: 3.8886 - val_mean_squared_error: 3.8904\n",
            "Epoch 14/100\n",
            "84/84 [==============================] - 1s 7ms/step - loss: 5.2564 - mean_squared_error: 5.2861 - val_loss: 4.0433 - val_mean_squared_error: 4.0429\n",
            "Epoch 15/100\n",
            "84/84 [==============================] - 1s 7ms/step - loss: 5.0707 - mean_squared_error: 5.1074 - val_loss: 4.2717 - val_mean_squared_error: 4.2716\n",
            "Epoch 16/100\n",
            "84/84 [==============================] - 1s 7ms/step - loss: 5.1640 - mean_squared_error: 5.1716 - val_loss: 3.9964 - val_mean_squared_error: 3.9987\n",
            "Epoch 17/100\n",
            "84/84 [==============================] - 1s 7ms/step - loss: 5.0030 - mean_squared_error: 4.9924 - val_loss: 4.1116 - val_mean_squared_error: 4.1138\n",
            "Epoch 18/100\n",
            "84/84 [==============================] - 1s 8ms/step - loss: 4.9912 - mean_squared_error: 4.9806 - val_loss: 4.2361 - val_mean_squared_error: 4.2383\n",
            "Epoch 19/100\n",
            "84/84 [==============================] - 1s 16ms/step - loss: 5.1583 - mean_squared_error: 5.1551 - val_loss: 3.9537 - val_mean_squared_error: 3.9540\n",
            "Epoch 20/100\n",
            "84/84 [==============================] - 1s 14ms/step - loss: 5.0051 - mean_squared_error: 5.0242 - val_loss: 4.0940 - val_mean_squared_error: 4.0940\n",
            "Epoch 21/100\n",
            "84/84 [==============================] - 1s 8ms/step - loss: 4.8478 - mean_squared_error: 4.8581 - val_loss: 4.1851 - val_mean_squared_error: 4.1832\n",
            "Epoch 22/100\n",
            "84/84 [==============================] - 1s 7ms/step - loss: 4.9360 - mean_squared_error: 4.9315 - val_loss: 3.7900 - val_mean_squared_error: 3.7906\n",
            "Epoch 23/100\n",
            "84/84 [==============================] - 1s 6ms/step - loss: 4.8593 - mean_squared_error: 4.8744 - val_loss: 4.1170 - val_mean_squared_error: 4.1168\n",
            "Epoch 24/100\n",
            "84/84 [==============================] - 1s 6ms/step - loss: 4.8907 - mean_squared_error: 4.8885 - val_loss: 4.1686 - val_mean_squared_error: 4.1689\n",
            "Epoch 25/100\n",
            "84/84 [==============================] - 1s 7ms/step - loss: 4.9636 - mean_squared_error: 4.9753 - val_loss: 3.7631 - val_mean_squared_error: 3.7644\n",
            "Epoch 26/100\n",
            "84/84 [==============================] - 1s 7ms/step - loss: 4.9247 - mean_squared_error: 4.9199 - val_loss: 3.9076 - val_mean_squared_error: 3.9078\n",
            "Epoch 27/100\n",
            "84/84 [==============================] - 1s 7ms/step - loss: 4.8701 - mean_squared_error: 4.8710 - val_loss: 3.8344 - val_mean_squared_error: 3.8366\n",
            "Epoch 28/100\n",
            "84/84 [==============================] - 1s 7ms/step - loss: 4.9774 - mean_squared_error: 4.9687 - val_loss: 3.8949 - val_mean_squared_error: 3.8973\n",
            "Epoch 29/100\n",
            "84/84 [==============================] - 1s 7ms/step - loss: 4.8475 - mean_squared_error: 4.8386 - val_loss: 3.9493 - val_mean_squared_error: 3.9502\n",
            "Epoch 30/100\n",
            "84/84 [==============================] - 1s 6ms/step - loss: 4.7218 - mean_squared_error: 4.7002 - val_loss: 3.9343 - val_mean_squared_error: 3.9359\n",
            "Epoch 31/100\n",
            "84/84 [==============================] - 1s 7ms/step - loss: 4.7976 - mean_squared_error: 4.7983 - val_loss: 3.7787 - val_mean_squared_error: 3.7792\n",
            "Epoch 32/100\n",
            "84/84 [==============================] - 1s 6ms/step - loss: 4.7025 - mean_squared_error: 4.7142 - val_loss: 4.0617 - val_mean_squared_error: 4.0627\n",
            "Epoch 33/100\n",
            "84/84 [==============================] - 1s 6ms/step - loss: 4.8506 - mean_squared_error: 4.8474 - val_loss: 3.7431 - val_mean_squared_error: 3.7445\n",
            "Epoch 34/100\n",
            "84/84 [==============================] - 1s 7ms/step - loss: 4.7591 - mean_squared_error: 4.7581 - val_loss: 3.7532 - val_mean_squared_error: 3.7556\n",
            "Epoch 35/100\n",
            "84/84 [==============================] - 1s 7ms/step - loss: 4.7116 - mean_squared_error: 4.7018 - val_loss: 3.8627 - val_mean_squared_error: 3.8629\n",
            "Epoch 36/100\n",
            "84/84 [==============================] - 1s 7ms/step - loss: 4.7425 - mean_squared_error: 4.7377 - val_loss: 4.1152 - val_mean_squared_error: 4.1157\n",
            "Epoch 37/100\n",
            "84/84 [==============================] - 1s 7ms/step - loss: 4.7017 - mean_squared_error: 4.6842 - val_loss: 3.8604 - val_mean_squared_error: 3.8626\n",
            "Epoch 38/100\n",
            "84/84 [==============================] - 1s 7ms/step - loss: 4.6084 - mean_squared_error: 4.6219 - val_loss: 4.2071 - val_mean_squared_error: 4.2092\n",
            "Epoch 39/100\n",
            "84/84 [==============================] - 1s 11ms/step - loss: 4.7617 - mean_squared_error: 4.7396 - val_loss: 3.7746 - val_mean_squared_error: 3.7773\n",
            "Epoch 40/100\n",
            "84/84 [==============================] - 1s 12ms/step - loss: 4.7277 - mean_squared_error: 4.7293 - val_loss: 3.9481 - val_mean_squared_error: 3.9494\n",
            "Epoch 41/100\n",
            "84/84 [==============================] - 1s 11ms/step - loss: 4.7341 - mean_squared_error: 4.7504 - val_loss: 3.8178 - val_mean_squared_error: 3.8174\n",
            "Epoch 42/100\n",
            "84/84 [==============================] - 1s 9ms/step - loss: 4.6465 - mean_squared_error: 4.6359 - val_loss: 4.1358 - val_mean_squared_error: 4.1378\n",
            "Epoch 43/100\n",
            "84/84 [==============================] - 1s 7ms/step - loss: 4.6432 - mean_squared_error: 4.6316 - val_loss: 3.6998 - val_mean_squared_error: 3.7005\n",
            "Epoch 44/100\n",
            "84/84 [==============================] - 1s 7ms/step - loss: 4.5942 - mean_squared_error: 4.5859 - val_loss: 3.8392 - val_mean_squared_error: 3.8407\n",
            "Epoch 45/100\n",
            "84/84 [==============================] - 1s 7ms/step - loss: 4.6062 - mean_squared_error: 4.5900 - val_loss: 3.7335 - val_mean_squared_error: 3.7354\n",
            "Epoch 46/100\n",
            "84/84 [==============================] - 1s 7ms/step - loss: 4.6645 - mean_squared_error: 4.6727 - val_loss: 3.9072 - val_mean_squared_error: 3.9071\n",
            "Epoch 47/100\n",
            "84/84 [==============================] - 1s 7ms/step - loss: 4.6157 - mean_squared_error: 4.6505 - val_loss: 3.7150 - val_mean_squared_error: 3.7165\n",
            "Epoch 48/100\n",
            "84/84 [==============================] - 1s 7ms/step - loss: 4.4668 - mean_squared_error: 4.4677 - val_loss: 3.8391 - val_mean_squared_error: 3.8397\n",
            "Epoch 49/100\n",
            "84/84 [==============================] - 1s 7ms/step - loss: 4.6104 - mean_squared_error: 4.6379 - val_loss: 3.7800 - val_mean_squared_error: 3.7807\n",
            "Epoch 50/100\n",
            "84/84 [==============================] - 1s 7ms/step - loss: 4.5153 - mean_squared_error: 4.5097 - val_loss: 3.8170 - val_mean_squared_error: 3.8164\n",
            "Epoch 51/100\n",
            "84/84 [==============================] - 1s 7ms/step - loss: 4.5762 - mean_squared_error: 4.5720 - val_loss: 3.6813 - val_mean_squared_error: 3.6815\n",
            "Epoch 52/100\n",
            "84/84 [==============================] - 1s 7ms/step - loss: 4.4915 - mean_squared_error: 4.4981 - val_loss: 3.8928 - val_mean_squared_error: 3.8922\n",
            "Epoch 53/100\n",
            "84/84 [==============================] - 1s 7ms/step - loss: 4.5634 - mean_squared_error: 4.5665 - val_loss: 3.8628 - val_mean_squared_error: 3.8638\n",
            "Epoch 54/100\n",
            "84/84 [==============================] - 1s 7ms/step - loss: 4.6003 - mean_squared_error: 4.5905 - val_loss: 3.7402 - val_mean_squared_error: 3.7410\n",
            "Epoch 55/100\n",
            "84/84 [==============================] - 1s 7ms/step - loss: 4.4703 - mean_squared_error: 4.4919 - val_loss: 3.8503 - val_mean_squared_error: 3.8499\n",
            "Epoch 56/100\n",
            "84/84 [==============================] - 1s 7ms/step - loss: 4.5501 - mean_squared_error: 4.5421 - val_loss: 4.0145 - val_mean_squared_error: 4.0151\n",
            "Epoch 57/100\n",
            "84/84 [==============================] - 1s 7ms/step - loss: 4.5128 - mean_squared_error: 4.5109 - val_loss: 4.2614 - val_mean_squared_error: 4.2646\n",
            "Epoch 58/100\n",
            "84/84 [==============================] - 1s 7ms/step - loss: 4.6009 - mean_squared_error: 4.5919 - val_loss: 4.1013 - val_mean_squared_error: 4.1027\n",
            "Epoch 59/100\n",
            "84/84 [==============================] - 1s 10ms/step - loss: 4.4905 - mean_squared_error: 4.4823 - val_loss: 4.2813 - val_mean_squared_error: 4.2829\n",
            "Epoch 60/100\n",
            "84/84 [==============================] - 1s 10ms/step - loss: 4.6073 - mean_squared_error: 4.5906 - val_loss: 4.1414 - val_mean_squared_error: 4.1414\n",
            "Epoch 61/100\n",
            "84/84 [==============================] - 1s 12ms/step - loss: 4.5466 - mean_squared_error: 4.5462 - val_loss: 3.7627 - val_mean_squared_error: 3.7620\n",
            "Epoch 62/100\n",
            "84/84 [==============================] - 1s 10ms/step - loss: 4.5589 - mean_squared_error: 4.5509 - val_loss: 3.7924 - val_mean_squared_error: 3.7932\n",
            "Epoch 63/100\n",
            "84/84 [==============================] - 1s 7ms/step - loss: 4.5099 - mean_squared_error: 4.4961 - val_loss: 4.3574 - val_mean_squared_error: 4.3580\n",
            "Epoch 64/100\n",
            "84/84 [==============================] - 1s 7ms/step - loss: 4.5452 - mean_squared_error: 4.5461 - val_loss: 3.7359 - val_mean_squared_error: 3.7376\n",
            "Epoch 65/100\n",
            "84/84 [==============================] - 1s 7ms/step - loss: 4.3728 - mean_squared_error: 4.3748 - val_loss: 3.6628 - val_mean_squared_error: 3.6638\n",
            "Epoch 66/100\n",
            "84/84 [==============================] - 1s 7ms/step - loss: 4.4816 - mean_squared_error: 4.5034 - val_loss: 3.8900 - val_mean_squared_error: 3.8898\n",
            "Epoch 67/100\n",
            "84/84 [==============================] - 1s 7ms/step - loss: 4.4808 - mean_squared_error: 4.4916 - val_loss: 3.7797 - val_mean_squared_error: 3.7799\n",
            "Epoch 68/100\n",
            "84/84 [==============================] - 1s 7ms/step - loss: 4.3835 - mean_squared_error: 4.3771 - val_loss: 3.8497 - val_mean_squared_error: 3.8494\n",
            "Epoch 69/100\n",
            "84/84 [==============================] - 1s 7ms/step - loss: 4.4805 - mean_squared_error: 4.4676 - val_loss: 3.6807 - val_mean_squared_error: 3.6812\n",
            "Epoch 70/100\n",
            "84/84 [==============================] - 1s 7ms/step - loss: 4.4109 - mean_squared_error: 4.4265 - val_loss: 3.7221 - val_mean_squared_error: 3.7215\n",
            "Epoch 71/100\n",
            "84/84 [==============================] - 1s 7ms/step - loss: 4.4675 - mean_squared_error: 4.4674 - val_loss: 3.7107 - val_mean_squared_error: 3.7109\n",
            "Epoch 72/100\n",
            "84/84 [==============================] - 1s 7ms/step - loss: 4.3722 - mean_squared_error: 4.3760 - val_loss: 3.7175 - val_mean_squared_error: 3.7192\n",
            "Epoch 73/100\n",
            "84/84 [==============================] - 1s 7ms/step - loss: 4.4624 - mean_squared_error: 4.5008 - val_loss: 3.7168 - val_mean_squared_error: 3.7178\n",
            "Epoch 74/100\n",
            "84/84 [==============================] - 1s 7ms/step - loss: 4.3993 - mean_squared_error: 4.4064 - val_loss: 3.8363 - val_mean_squared_error: 3.8369\n",
            "Epoch 75/100\n",
            "84/84 [==============================] - 1s 8ms/step - loss: 4.4179 - mean_squared_error: 4.4070 - val_loss: 3.6650 - val_mean_squared_error: 3.6669\n",
            "Epoch 76/100\n",
            "84/84 [==============================] - 1s 7ms/step - loss: 4.3163 - mean_squared_error: 4.3200 - val_loss: 3.7338 - val_mean_squared_error: 3.7344\n",
            "Epoch 77/100\n",
            "84/84 [==============================] - 1s 7ms/step - loss: 4.4175 - mean_squared_error: 4.4231 - val_loss: 3.6837 - val_mean_squared_error: 3.6837\n",
            "Epoch 78/100\n",
            "84/84 [==============================] - 1s 7ms/step - loss: 4.3964 - mean_squared_error: 4.3831 - val_loss: 3.9781 - val_mean_squared_error: 3.9777\n",
            "Epoch 79/100\n",
            "84/84 [==============================] - 1s 9ms/step - loss: 4.4276 - mean_squared_error: 4.4385 - val_loss: 3.7044 - val_mean_squared_error: 3.7056\n",
            "Epoch 80/100\n",
            "84/84 [==============================] - 1s 12ms/step - loss: 4.2984 - mean_squared_error: 4.2919 - val_loss: 3.7000 - val_mean_squared_error: 3.7013\n",
            "Epoch 81/100\n",
            "84/84 [==============================] - 1s 12ms/step - loss: 4.2661 - mean_squared_error: 4.2721 - val_loss: 3.8043 - val_mean_squared_error: 3.8043\n",
            "Epoch 82/100\n",
            "84/84 [==============================] - 1s 10ms/step - loss: 4.3372 - mean_squared_error: 4.3416 - val_loss: 3.6904 - val_mean_squared_error: 3.6923\n",
            "Epoch 83/100\n",
            "84/84 [==============================] - 1s 7ms/step - loss: 4.2864 - mean_squared_error: 4.2854 - val_loss: 3.9680 - val_mean_squared_error: 3.9684\n",
            "Epoch 84/100\n",
            "84/84 [==============================] - 1s 7ms/step - loss: 4.2281 - mean_squared_error: 4.2146 - val_loss: 3.7744 - val_mean_squared_error: 3.7738\n",
            "Epoch 85/100\n",
            "84/84 [==============================] - 1s 7ms/step - loss: 4.2836 - mean_squared_error: 4.2748 - val_loss: 3.8112 - val_mean_squared_error: 3.8121\n",
            "Epoch 86/100\n",
            "84/84 [==============================] - 1s 7ms/step - loss: 4.2733 - mean_squared_error: 4.2739 - val_loss: 3.7571 - val_mean_squared_error: 3.7577\n",
            "Epoch 87/100\n",
            "84/84 [==============================] - 1s 7ms/step - loss: 4.3467 - mean_squared_error: 4.3840 - val_loss: 3.8232 - val_mean_squared_error: 3.8224\n",
            "Epoch 88/100\n",
            "84/84 [==============================] - 1s 7ms/step - loss: 4.3143 - mean_squared_error: 4.3191 - val_loss: 3.7558 - val_mean_squared_error: 3.7556\n",
            "Epoch 89/100\n",
            "84/84 [==============================] - 1s 7ms/step - loss: 4.2748 - mean_squared_error: 4.2738 - val_loss: 3.7253 - val_mean_squared_error: 3.7249\n",
            "Epoch 90/100\n",
            "84/84 [==============================] - 1s 7ms/step - loss: 4.2631 - mean_squared_error: 4.2685 - val_loss: 3.9033 - val_mean_squared_error: 3.9024\n",
            "Epoch 91/100\n",
            "84/84 [==============================] - 1s 7ms/step - loss: 4.2031 - mean_squared_error: 4.2244 - val_loss: 3.9465 - val_mean_squared_error: 3.9454\n",
            "Epoch 92/100\n",
            "84/84 [==============================] - 1s 8ms/step - loss: 4.3201 - mean_squared_error: 4.3195 - val_loss: 3.8711 - val_mean_squared_error: 3.8712\n",
            "Epoch 93/100\n",
            "84/84 [==============================] - 1s 8ms/step - loss: 4.1671 - mean_squared_error: 4.1679 - val_loss: 3.7643 - val_mean_squared_error: 3.7650\n",
            "Epoch 94/100\n",
            "84/84 [==============================] - 1s 7ms/step - loss: 4.2044 - mean_squared_error: 4.2099 - val_loss: 3.7202 - val_mean_squared_error: 3.7203\n",
            "Epoch 95/100\n",
            "84/84 [==============================] - 1s 7ms/step - loss: 4.1642 - mean_squared_error: 4.1589 - val_loss: 3.7353 - val_mean_squared_error: 3.7338\n",
            "Epoch 96/100\n",
            "84/84 [==============================] - 1s 7ms/step - loss: 4.2019 - mean_squared_error: 4.1942 - val_loss: 4.0786 - val_mean_squared_error: 4.0766\n",
            "Epoch 97/100\n",
            "84/84 [==============================] - 1s 7ms/step - loss: 4.1072 - mean_squared_error: 4.0982 - val_loss: 3.8937 - val_mean_squared_error: 3.8927\n",
            "Epoch 98/100\n",
            "84/84 [==============================] - 1s 7ms/step - loss: 4.2530 - mean_squared_error: 4.2622 - val_loss: 4.0893 - val_mean_squared_error: 4.0888\n",
            "Epoch 99/100\n",
            "84/84 [==============================] - 1s 11ms/step - loss: 4.2422 - mean_squared_error: 4.2304 - val_loss: 3.8129 - val_mean_squared_error: 3.8121\n",
            "Epoch 100/100\n",
            "84/84 [==============================] - 1s 11ms/step - loss: 4.2393 - mean_squared_error: 4.2359 - val_loss: 4.0106 - val_mean_squared_error: 4.0118\n",
            "27/27 [==============================] - 0s 3ms/step\n",
            "Erro Quadrático Médio (MSE): 4.787462777547689\n"
          ]
        }
      ]
    },
    {
      "cell_type": "code",
      "execution_count": null,
      "metadata": {
        "colab": {
          "base_uri": "https://localhost:8080/",
          "height": 451
        },
        "id": "95CdOQ2_69nX",
        "outputId": "607dae0e-5b50-4f7a-e8d4-596158240129"
      },
      "outputs": [
        {
          "output_type": "display_data",
          "data": {
            "text/plain": [
              "<Figure size 640x480 with 1 Axes>"
            ],
            "image/png": "[encoded data removed]"
          },
          "metadata": {}
        }
      ],
      "source": [
        "# Plotar a perda de treino e validação ao longo das épocas\n",
        "plt.plot(history.history['mean_squared_error'], label='Treino')\n",
        "plt.plot(history.history['val_mean_squared_error'], label='Validação')\n",
        "plt.xlabel('Épocas')\n",
        "plt.ylabel('MSE')\n",
        "plt.legend()\n",
        "plt.show()\n"
      ]
    },
    {
      "cell_type": "code",
      "source": [
        "plt.plot(history.history['loss'], label='Treino')\n",
        "plt.plot(history.history['val_loss'], label='Validação')\n",
        "plt.xlabel('Épocas')\n",
        "plt.ylabel('Perda')\n",
        "plt.legend()\n",
        "plt.show()"
      ],
      "metadata": {
        "colab": {
          "base_uri": "https://localhost:8080/",
          "height": 451
        },
        "id": "EDfONyMQG20t",
        "outputId": "c76f5a19-8190-467d-f305-e65822398f99"
      },
      "execution_count": null,
      "outputs": [
        {
          "output_type": "display_data",
          "data": {
            "text/plain": [
              "<Figure size 640x480 with 1 Axes>"
            ],
            "image/png": "[encoded data removed]"
          },
          "metadata": {}
        }
      ]
    }
  ]
}